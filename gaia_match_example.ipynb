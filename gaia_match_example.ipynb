{
 "cells": [
  {
   "cell_type": "code",
   "execution_count": 2,
   "metadata": {
    "collapsed": false
   },
   "outputs": [],
   "source": [
    "%matplotlib inline \n",
    "import numpy as np\n",
    "import pandas as pd\n",
    "import matplotlib.pyplot as plt"
   ]
  },
  {
   "cell_type": "code",
   "execution_count": 39,
   "metadata": {
    "collapsed": true
   },
   "outputs": [],
   "source": [
    "# cross matched using CDS XMatch Service of:\n",
    "# Gaia DR1 TGAS and KIC\n",
    "file = '1497471274965A.csv.gz'"
   ]
  },
  {
   "cell_type": "code",
   "execution_count": 40,
   "metadata": {
    "collapsed": false
   },
   "outputs": [
    {
     "data": {
      "text/plain": [
       "Index([u'angDist', u'ra_ep2000', u'dec_ep2000', u'errHalfMaj', u'errHalfMin',\n",
       "       u'errPosAng', u'ra', u'dec', u'hip', u'tycho2_id', u'solution_id',\n",
       "       u'source_id', u'random_index', u'ref_epoch', u'ra_error', u'dec_error',\n",
       "       u'parallax', u'parallax_error', u'pmra', u'pmra_error', u'pmdec',\n",
       "       u'pmdec_error', u'ra_dec_corr', u'ra_parallax_corr', u'ra_pmra_corr',\n",
       "       u'ra_pmdec_corr', u'dec_parallax_corr', u'dec_pmra_corr',\n",
       "       u'dec_pmdec_corr', u'parallax_pmra_corr', u'parallax_pmdec_corr',\n",
       "       u'pmra_pmdec_corr', u'astrometric_n_obs_al', u'astrometric_n_obs_ac',\n",
       "       u'astrometric_n_good_obs_al', u'astrometric_n_good_obs_ac',\n",
       "       u'astrometric_n_bad_obs_al', u'astrometric_n_bad_obs_ac',\n",
       "       u'astrometric_delta_q', u'astrometric_excess_noise',\n",
       "       u'astrometric_excess_noise_sig', u'astrometric_primary_flag',\n",
       "       u'astrometric_relegation_factor', u'astrometric_weight_al',\n",
       "       u'astrometric_weight_ac', u'astrometric_priors_used',\n",
       "       u'matched_observations', u'duplicated_source',\n",
       "       u'scan_direction_strength_k1', u'scan_direction_strength_k2',\n",
       "       u'scan_direction_strength_k3', u'scan_direction_strength_k4',\n",
       "       u'scan_direction_mean_k1', u'scan_direction_mean_k2',\n",
       "       u'scan_direction_mean_k3', u'scan_direction_mean_k4', u'phot_g_n_obs',\n",
       "       u'phot_g_mean_flux', u'phot_g_mean_flux_error', u'phot_g_mean_mag',\n",
       "       u'phot_variable_flag', u'l', u'b', u'ecl_lon', u'ecl_lat', u'KIC',\n",
       "       u'RA', u'Dec', u'umag', u'gmag', u'rmag', u'imag', u'zmag', u'Jmag',\n",
       "       u'Hmag', u'Kmag', u'kepmag', u'pmRA', u'pmDec', u'sg', u'v', u'cq',\n",
       "       u'aq', u'fc'],\n",
       "      dtype='object')"
      ]
     },
     "execution_count": 40,
     "metadata": {},
     "output_type": "execute_result"
    }
   ],
   "source": [
    "gaia = pd.read_csv(file)\n",
    "gaia.columns"
   ]
  },
  {
   "cell_type": "code",
   "execution_count": 36,
   "metadata": {
    "collapsed": false
   },
   "outputs": [
    {
     "data": {
      "text/plain": [
       "(37389, 84)"
      ]
     },
     "execution_count": 36,
     "metadata": {},
     "output_type": "execute_result"
    }
   ],
   "source": [
    "gaia.shape"
   ]
  },
  {
   "cell_type": "code",
   "execution_count": 11,
   "metadata": {
    "collapsed": true
   },
   "outputs": [],
   "source": [
    "jfile = 'Janes2017_data.txt'\n",
    "\n",
    "janes = pd.read_table(jfile, delim_whitespace=True, comment='#',\n",
    "                      names=('Bid', 'KIC', 'pm_ra', 'pme_ra', 'pm_de', 'pme_de', \n",
    "                             'Sep','Irp', 'gmag', 'g_Ks', 'per','e_per','V','e_V', 'NQtrs', 'flag'))"
   ]
  },
  {
   "cell_type": "code",
   "execution_count": 16,
   "metadata": {
    "collapsed": false
   },
   "outputs": [
    {
     "data": {
      "text/plain": [
       "(186, 16)"
      ]
     },
     "execution_count": 16,
     "metadata": {},
     "output_type": "execute_result"
    }
   ],
   "source": [
    "janes.shape"
   ]
  },
  {
   "cell_type": "code",
   "execution_count": 20,
   "metadata": {
    "collapsed": false
   },
   "outputs": [
    {
     "data": {
      "text/plain": [
       "(55, 99)"
      ]
     },
     "execution_count": 20,
     "metadata": {},
     "output_type": "execute_result"
    }
   ],
   "source": [
    "big_table = pd.merge(janes, gaia, how='inner', left_on='KIC', right_on=u'KIC')\n",
    "big_table.shape"
   ]
  },
  {
   "cell_type": "code",
   "execution_count": 33,
   "metadata": {
    "collapsed": false
   },
   "outputs": [],
   "source": [
    "# or do it manually!\n",
    "\n",
    "dist = np.zeros(len(janes)) - 1\n",
    "\n",
    "for i in range(len(janes)):\n",
    "    x = np.where((gaia[u'KIC'] == janes['KIC'].values[i]))[0]\n",
    "    if len(x) > 0:\n",
    "         dist[i] = 1000./ gaia[u'parallax'].values[x]"
   ]
  },
  {
   "cell_type": "code",
   "execution_count": 35,
   "metadata": {
    "collapsed": false
   },
   "outputs": [
    {
     "data": {
      "text/plain": [
       "55"
      ]
     },
     "execution_count": 35,
     "metadata": {},
     "output_type": "execute_result"
    }
   ],
   "source": [
    "sum(dist > 0)"
   ]
  },
  {
   "cell_type": "code",
   "execution_count": null,
   "metadata": {
    "collapsed": true
   },
   "outputs": [],
   "source": []
  }
 ],
 "metadata": {
  "kernelspec": {
   "display_name": "Python 2",
   "language": "python",
   "name": "python2"
  },
  "language_info": {
   "codemirror_mode": {
    "name": "ipython",
    "version": 2
   },
   "file_extension": ".py",
   "mimetype": "text/x-python",
   "name": "python",
   "nbconvert_exporter": "python",
   "pygments_lexer": "ipython2",
   "version": "2.7.13"
  }
 },
 "nbformat": 4,
 "nbformat_minor": 2
}
